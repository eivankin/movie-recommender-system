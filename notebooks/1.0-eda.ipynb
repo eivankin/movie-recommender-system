{
 "cells": [
  {
   "cell_type": "markdown",
   "source": [
    "# Data Exploration"
   ],
   "metadata": {
    "collapsed": false
   },
   "id": "aa0a0075c672eab0"
  },
  {
   "cell_type": "code",
   "execution_count": 1,
   "outputs": [],
   "source": [
    "from src.utils import set_dataset_path"
   ],
   "metadata": {
    "collapsed": false,
    "ExecuteTime": {
     "end_time": "2023-12-02T09:32:30.804116768Z",
     "start_time": "2023-12-02T09:32:30.788583090Z"
    }
   },
   "id": "5611b412002ec525"
  },
  {
   "cell_type": "markdown",
   "source": [
    "## Loading the dataset"
   ],
   "metadata": {
    "collapsed": false
   },
   "id": "f46e9d3b957dd67c"
  },
  {
   "cell_type": "code",
   "execution_count": 2,
   "outputs": [],
   "source": [
    "DATA_PATH = \"../data/raw/\""
   ],
   "metadata": {
    "collapsed": false,
    "ExecuteTime": {
     "end_time": "2023-12-02T09:32:36.278407704Z",
     "start_time": "2023-12-02T09:32:36.271538954Z"
    }
   },
   "id": "8c0151ac10f02d4d"
  },
  {
   "cell_type": "code",
   "execution_count": 3,
   "outputs": [],
   "source": [
    "set_dataset_path(DATA_PATH)"
   ],
   "metadata": {
    "collapsed": false,
    "ExecuteTime": {
     "end_time": "2023-12-02T09:32:36.944192531Z",
     "start_time": "2023-12-02T09:32:36.937187451Z"
    }
   },
   "id": "e3b70a4485e4d042"
  },
  {
   "cell_type": "code",
   "execution_count": 4,
   "outputs": [],
   "source": [
    "import surprise"
   ],
   "metadata": {
    "collapsed": false,
    "ExecuteTime": {
     "end_time": "2023-12-02T09:32:37.603077250Z",
     "start_time": "2023-12-02T09:32:37.545818645Z"
    }
   },
   "id": "c297533358756d92"
  },
  {
   "cell_type": "code",
   "execution_count": 6,
   "id": "initial_id",
   "metadata": {
    "collapsed": true,
    "ExecuteTime": {
     "end_time": "2023-12-02T09:32:45.893256517Z",
     "start_time": "2023-12-02T09:32:45.798236480Z"
    }
   },
   "outputs": [],
   "source": [
    "dataset = surprise.Dataset.load_builtin(\"ml-100k\", prompt=False)"
   ]
  },
  {
   "cell_type": "markdown",
   "source": [
    "# Exploring the dataset\n",
    "TODO: look at user features and connections with films\n",
    "\n",
    "TODO: select features to be preprocessed (zipcode to geo info, other cat features), scale features\n",
    "TODO: make separate notebook/script for preprocessing"
   ],
   "metadata": {
    "collapsed": false
   },
   "id": "8283ac6920ff59b1"
  }
 ],
 "metadata": {
  "kernelspec": {
   "display_name": "Python 3",
   "language": "python",
   "name": "python3"
  },
  "language_info": {
   "codemirror_mode": {
    "name": "ipython",
    "version": 2
   },
   "file_extension": ".py",
   "mimetype": "text/x-python",
   "name": "python",
   "nbconvert_exporter": "python",
   "pygments_lexer": "ipython2",
   "version": "2.7.6"
  }
 },
 "nbformat": 4,
 "nbformat_minor": 5
}
